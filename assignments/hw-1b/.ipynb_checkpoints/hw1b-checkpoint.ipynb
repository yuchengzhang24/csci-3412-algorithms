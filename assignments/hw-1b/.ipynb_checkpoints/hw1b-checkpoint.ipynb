{
 "cells": [
  {
   "cell_type": "markdown",
   "id": "4252d4d3-8a16-4470-a37a-9ec228c5dd29",
   "metadata": {},
   "source": [
    "# **Homework 1b**"
   ]
  },
  {
   "cell_type": "markdown",
   "id": "36d5432b-d6c5-45b9-b55d-16339086b080",
   "metadata": {},
   "source": [
    "### **Name**: Yucheng Zhang\n",
    "### **Class**: CSCI 3412 Section 002\n",
    "### **Assignment**: 1b \n",
    "### **Due Date**: 02/08/2024"
   ]
  },
  {
   "cell_type": "markdown",
   "id": "e87b09ec-d18f-4f1a-a660-687a89d7998a",
   "metadata": {},
   "source": [
    "## **Part 1**"
   ]
  },
  {
   "cell_type": "markdown",
   "id": "400d56ba-be82-4d87-9ddd-a4782ac6849c",
   "metadata": {},
   "source": [
    "**Program Description**: \n",
    "1. Your program generates a random integer number between 1 and 1,000.  Then it uses the famous binary search algorithm to automatically guess the generated random number.   For each try, count the number of guesses to guess the random number correctly.  Feel free to use any binary search algorithm implementation out there as it is.\n",
    "2. Repeat the previous step 10,000 times.  Then compute the average number of guesses out of 10,000 tries.\n",
    "3. Repeat the previous two steps with random numbers between 1 and 1,000,000 instead of 1,000 (max number)\n"
   ]
  },
  {
   "cell_type": "code",
   "execution_count": 13,
   "id": "2f31b49c-39c5-4d6f-973a-9c756006dd2f",
   "metadata": {},
   "outputs": [],
   "source": [
    "# import random function for random number generation \n",
    "import random "
   ]
  },
  {
   "cell_type": "code",
   "execution_count": 14,
   "id": "a1ba3e6e-a0f5-407e-8a99-6f90df5a7a10",
   "metadata": {},
   "outputs": [
    {
     "name": "stdout",
     "output_type": "stream",
     "text": [
      "Element is present at index 3\n"
     ]
    }
   ],
   "source": [
    "# binary search algorithm copied \n",
    "\n",
    "# Returns index of x in arr if present, else -1\n",
    "def binary_search(arr, low, high, x):\n",
    "\n",
    "\t# Check base case\n",
    "\tif high >= low:\n",
    "\n",
    "\t\tmid = (high + low) // 2\n",
    "\n",
    "\t\t# If element is present at the middle itself\n",
    "\t\tif arr[mid] == x:\n",
    "\t\t\treturn mid\n",
    "\n",
    "\t\t# If element is smaller than mid, then it can only\n",
    "\t\t# be present in left subarray\n",
    "\t\telif arr[mid] > x:\n",
    "\t\t\treturn binary_search(arr, low, mid - 1, x)\n",
    "\n",
    "\t\t# Else the element can only be present in right subarray\n",
    "\t\telse:\n",
    "\t\t\treturn binary_search(arr, mid + 1, high, x)\n",
    "\n",
    "\telse:\n",
    "\t\t# Element is not present in the array\n",
    "\t\treturn -1\n",
    "\n",
    "# Test array\n",
    "arr = [ 2, 3, 4, 10, 40 ]\n",
    "x = 10\n",
    "\n",
    "# Function call\n",
    "result = binary_search(arr, 0, len(arr)-1, x)\n",
    "\n",
    "if result != -1:\n",
    "\tprint(\"Element is present at index\", str(result))\n",
    "else:\n",
    "\tprint(\"Element is not present in array\")\n"
   ]
  },
  {
   "cell_type": "markdown",
   "id": "0ac8320f-0fe7-4ed3-a1c5-0e0776f322af",
   "metadata": {},
   "source": [
    "## **Part 2**"
   ]
  },
  {
   "cell_type": "markdown",
   "id": "09102613-668b-4f4e-9de1-7809effc9da0",
   "metadata": {},
   "source": [
    "## **Part 3**"
   ]
  },
  {
   "cell_type": "markdown",
   "id": "4ab16675-d084-45d5-b1fd-25d1e83ed416",
   "metadata": {},
   "source": [
    "## **Part 4**"
   ]
  },
  {
   "cell_type": "code",
   "execution_count": null,
   "id": "225043f8-3e99-48bd-acf1-64e5d46b99ad",
   "metadata": {},
   "outputs": [],
   "source": []
  }
 ],
 "metadata": {
  "kernelspec": {
   "display_name": "Python 3 (ipykernel)",
   "language": "python",
   "name": "python3"
  },
  "language_info": {
   "codemirror_mode": {
    "name": "ipython",
    "version": 3
   },
   "file_extension": ".py",
   "mimetype": "text/x-python",
   "name": "python",
   "nbconvert_exporter": "python",
   "pygments_lexer": "ipython3",
   "version": "3.13.1"
  }
 },
 "nbformat": 4,
 "nbformat_minor": 5
}

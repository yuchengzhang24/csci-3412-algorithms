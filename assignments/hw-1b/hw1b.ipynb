{
 "cells": [
  {
   "cell_type": "markdown",
   "id": "4252d4d3-8a16-4470-a37a-9ec228c5dd29",
   "metadata": {},
   "source": [
    "# **Homework 1b**"
   ]
  },
  {
   "cell_type": "markdown",
   "id": "36d5432b-d6c5-45b9-b55d-16339086b080",
   "metadata": {},
   "source": [
    "### **Name**: Yucheng Zhang\n",
    "### **Class**: CSCI 3412 Section 002\n",
    "### **Assignment**: 1b \n",
    "### **Due Date**: 02/08/2024"
   ]
  },
  {
   "cell_type": "markdown",
   "id": "e87b09ec-d18f-4f1a-a660-687a89d7998a",
   "metadata": {},
   "source": [
    "## **Part 1**"
   ]
  },
  {
   "cell_type": "markdown",
   "id": "400d56ba-be82-4d87-9ddd-a4782ac6849c",
   "metadata": {},
   "source": [
    "**Program Description**: \n",
    "1. Your program generates a random integer number between 1 and 1,000.  Then it uses the famous binary search algorithm to automatically guess the generated random number.   For each try, count the number of guesses to guess the random number correctly.  Feel free to use any binary search algorithm implementation out there as it is.\n",
    "2. Repeat the previous step 10,000 times.  Then compute the average number of guesses out of 10,000 tries.\n",
    "3. Repeat the previous two steps with random numbers between 1 and 1,000,000 instead of 1,000 (max number)\n"
   ]
  },
  {
   "cell_type": "code",
   "execution_count": 2,
   "id": "2f31b49c-39c5-4d6f-973a-9c756006dd2f",
   "metadata": {},
   "outputs": [],
   "source": [
    "# import random function for random number generation \n",
    "import random "
   ]
  },
  {
   "cell_type": "code",
   "execution_count": 5,
   "id": "a1ba3e6e-a0f5-407e-8a99-6f90df5a7a10",
   "metadata": {},
   "outputs": [],
   "source": [
    "# binary search algorithm \n",
    "\n",
    "def binary_search(target, low, high):\n",
    "    # counter to track each guess \n",
    "    guesses = 0\n",
    "    # loop to iterate through binary search algorithm \n",
    "    while low <= high:\n",
    "        # increment guesses for each iteration of binary search \n",
    "        guesses += 1\n",
    "        mid = (low + high) // 2\n",
    "        if mid == target:\n",
    "            # target found, return number of guesses \n",
    "            return guesses\n",
    "        elif mid < target:\n",
    "            low = mid + 1\n",
    "        else:\n",
    "            #else mid > target\n",
    "            high = mid - 1\n",
    "    # if target not found, return guesses \n",
    "    return guesses"
   ]
  },
  {
   "cell_type": "code",
   "execution_count": 12,
   "id": "26d679a1-22d1-423e-9a7a-2c21ec6025f9",
   "metadata": {},
   "outputs": [],
   "source": [
    "# function to simulate binary search for random number \n",
    "def binary_search_for_random(max_num):\n",
    "    # counter to track sum of guesses across all simulations \n",
    "    guess_sum = 0\n",
    "\n",
    "    # loop 1000 times and take the sum of guesses \n",
    "    for i in range(1000):\n",
    "        target = random.randint(1, max_num)\n",
    "        guesses = binary_search(target, 1, max_num)\n",
    "        guess_sum += guesses\n",
    "\n",
    "    # calculate guess average \n",
    "    average_guesses = \n",
    "    "
   ]
  },
  {
   "cell_type": "code",
   "execution_count": 13,
   "id": "861c3fc0-0d6b-4903-9ee4-2a39673f2ee2",
   "metadata": {},
   "outputs": [
    {
     "ename": "NameError",
     "evalue": "name 'guesses' is not defined",
     "output_type": "error",
     "traceback": [
      "\u001b[0;31m---------------------------------------------------------------------------\u001b[0m",
      "\u001b[0;31mNameError\u001b[0m                                 Traceback (most recent call last)",
      "Cell \u001b[0;32mIn[13], line 1\u001b[0m\n\u001b[0;32m----> 1\u001b[0m \u001b[38;5;28mprint\u001b[39m (\u001b[43mguesses\u001b[49m)\n",
      "\u001b[0;31mNameError\u001b[0m: name 'guesses' is not defined"
     ]
    }
   ],
   "source": [
    "print (guesses)"
   ]
  },
  {
   "cell_type": "code",
   "execution_count": 7,
   "id": "0d04533d-d1a5-40e7-96e2-8dfd8b47d446",
   "metadata": {},
   "outputs": [
    {
     "name": "stdout",
     "output_type": "stream",
     "text": [
      "Average guesses for range 1-1,000: 8.9581\n",
      "Average guesses for range 1-1,000,000: 18.946\n"
     ]
    }
   ],
   "source": [
    "def simulate_binary_search(max_number, trials=10000):\n",
    "    total_guesses = 0\n",
    "    for _ in range(trials):\n",
    "        target = random.randint(1, max_number)\n",
    "        guesses = binary_search(target, 1, max_number)\n",
    "        total_guesses += guesses\n",
    "    average_guesses = total_guesses / trials\n",
    "    return average_guesses\n",
    "\n",
    "# Simulate for range 1 to 1,000\n",
    "average_guesses_1000 = simulate_binary_search(1000)\n",
    "print(f\"Average guesses for range 1-1,000: {average_guesses_1000}\")\n",
    "\n",
    "# Simulate for range 1 to 1,000,000\n",
    "average_guesses_1000000 = simulate_binary_search(1000000)\n",
    "print(f\"Average guesses for range 1-1,000,000: {average_guesses_1000000}\")"
   ]
  },
  {
   "cell_type": "markdown",
   "id": "0ac8320f-0fe7-4ed3-a1c5-0e0776f322af",
   "metadata": {},
   "source": [
    "## **Part 2**"
   ]
  },
  {
   "cell_type": "markdown",
   "id": "09102613-668b-4f4e-9de1-7809effc9da0",
   "metadata": {},
   "source": [
    "## **Part 3**"
   ]
  },
  {
   "cell_type": "markdown",
   "id": "4ab16675-d084-45d5-b1fd-25d1e83ed416",
   "metadata": {},
   "source": [
    "## **Part 4**"
   ]
  },
  {
   "cell_type": "code",
   "execution_count": null,
   "id": "225043f8-3e99-48bd-acf1-64e5d46b99ad",
   "metadata": {},
   "outputs": [],
   "source": []
  }
 ],
 "metadata": {
  "kernelspec": {
   "display_name": "Python 3 (ipykernel)",
   "language": "python",
   "name": "python3"
  },
  "language_info": {
   "codemirror_mode": {
    "name": "ipython",
    "version": 3
   },
   "file_extension": ".py",
   "mimetype": "text/x-python",
   "name": "python",
   "nbconvert_exporter": "python",
   "pygments_lexer": "ipython3",
   "version": "3.13.1"
  }
 },
 "nbformat": 4,
 "nbformat_minor": 5
}
